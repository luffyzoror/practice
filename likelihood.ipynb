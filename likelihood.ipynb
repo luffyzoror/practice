{
 "cells": [
  {
   "cell_type": "markdown",
   "id": "6a9748fc",
   "metadata": {},
   "source": [
    "# Maximum likelihood estimation"
   ]
  },
  {
   "cell_type": "code",
   "execution_count": 1,
   "id": "7dcd7da5",
   "metadata": {},
   "outputs": [],
   "source": [
    "#creating a sample data and trying to fit it in normal distribution\n",
    "#for normal distribution we need to find the maximum value of log L(x|q)=i\n",
    "#for values of ui and si for which i maximizes is the answer"
   ]
  },
  {
   "cell_type": "code",
   "execution_count": 2,
   "id": "2bc48c01",
   "metadata": {},
   "outputs": [],
   "source": [
    "import numpy as np\n",
    "import math"
   ]
  },
  {
   "cell_type": "code",
   "execution_count": 4,
   "id": "9ccfe837",
   "metadata": {},
   "outputs": [],
   "source": [
    "X = np.array([[1,2,3,4,5]])\n",
    "n = np.shape(X)[1]"
   ]
  },
  {
   "cell_type": "code",
   "execution_count": 5,
   "id": "bbfd1ba2",
   "metadata": {},
   "outputs": [
    {
     "name": "stdout",
     "output_type": "stream",
     "text": [
      "The sample data:  [[1 2 3 4 5]]\n",
      "The number of data points present in x is  5\n"
     ]
    }
   ],
   "source": [
    "print(\"The sample data: \",X)\n",
    "print(\"The number of data points present in x is \",n)"
   ]
  },
  {
   "cell_type": "code",
   "execution_count": 7,
   "id": "89b1d810",
   "metadata": {},
   "outputs": [],
   "source": [
    "#taking some values for mean and standard deviation \n",
    "mu = np.array([[1,2,3,2,3]])\n",
    "sigma = np.array([[1,2,2,3,3]])"
   ]
  },
  {
   "cell_type": "code",
   "execution_count": 9,
   "id": "9ed275d7",
   "metadata": {},
   "outputs": [
    {
     "name": "stdout",
     "output_type": "stream",
     "text": [
      "The mean is [[1 2 3 2 3]]\n",
      "The st. deviation is [[1 2 2 3 3]]\n"
     ]
    }
   ],
   "source": [
    "print(\"The mean is\", mu)\n",
    "print(\"The st. deviation is\", sigma)"
   ]
  },
  {
   "cell_type": "code",
   "execution_count": 12,
   "id": "41750084",
   "metadata": {},
   "outputs": [
    {
     "name": "stdout",
     "output_type": "stream",
     "text": [
      "Mu Sigma logL\n",
      "1 1 -16.995\n",
      "2 2 -5.376\n",
      "3 2 -4.751\n",
      "2 3 -5.214\n",
      "3 3 -4.937\n"
     ]
    }
   ],
   "source": [
    "print(\"Mu Sigma logL\")\n",
    "for i in range(5):\n",
    "    logL = -np.sum(np.square(X-mu[0,i])/(2*np.square(sigma[0,i]))) - (0.5*n*np.log10(2*math.pi)) - n*np.log10(sigma[0,i])\n",
    "    print(mu[0,i], sigma[0,i], np.round(logL,3));"
   ]
  },
  {
   "cell_type": "code",
   "execution_count": null,
   "id": "e7b37983",
   "metadata": {},
   "outputs": [],
   "source": [
    "#so we take 3 2 as estimated parameter as for them logL is the maximum value we get"
   ]
  }
 ],
 "metadata": {
  "kernelspec": {
   "display_name": "Python 3",
   "language": "python",
   "name": "python3"
  },
  "language_info": {
   "codemirror_mode": {
    "name": "ipython",
    "version": 3
   },
   "file_extension": ".py",
   "mimetype": "text/x-python",
   "name": "python",
   "nbconvert_exporter": "python",
   "pygments_lexer": "ipython3",
   "version": "3.8.8"
  }
 },
 "nbformat": 4,
 "nbformat_minor": 5
}
