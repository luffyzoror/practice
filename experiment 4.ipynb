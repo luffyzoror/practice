{
 "cells": [
  {
   "cell_type": "markdown",
   "id": "135ec63d",
   "metadata": {},
   "source": [
    "# Implement Decision tree algorithm"
   ]
  },
  {
   "cell_type": "code",
   "execution_count": 1,
   "id": "0aacafd5",
   "metadata": {},
   "outputs": [],
   "source": [
    "from sklearn.datasets import load_iris\n",
    "from sklearn import tree"
   ]
  },
  {
   "cell_type": "code",
   "execution_count": 2,
   "id": "eeadb3f9",
   "metadata": {},
   "outputs": [],
   "source": [
    "#loading the dataset for fitting in the tree\n",
    "iris = load_iris()\n",
    "X,y = iris.data, iris.target"
   ]
  },
  {
   "cell_type": "code",
   "execution_count": 3,
   "id": "f871047a",
   "metadata": {},
   "outputs": [],
   "source": [
    "#let split the data for test and train split \n",
    "from sklearn.model_selection import train_test_split\n",
    "X_train, X_test, y_train, y_test = train_test_split(X, y, test_size=0.33, random_state=42)"
   ]
  },
  {
   "cell_type": "code",
   "execution_count": 4,
   "id": "6eadea52",
   "metadata": {},
   "outputs": [],
   "source": [
    "#training the decision tree classifier \n",
    "clf = tree.DecisionTreeClassifier()\n",
    "clf = clf.fit(X_train,y_train)"
   ]
  },
  {
   "cell_type": "code",
   "execution_count": 5,
   "id": "f3d382af",
   "metadata": {},
   "outputs": [
    {
     "name": "stdout",
     "output_type": "stream",
     "text": [
      "|--- feature_3 <= 0.80\n",
      "|   |--- class: 0\n",
      "|--- feature_3 >  0.80\n",
      "|   |--- feature_3 <= 1.75\n",
      "|   |   |--- feature_2 <= 5.35\n",
      "|   |   |   |--- feature_3 <= 1.65\n",
      "|   |   |   |   |--- feature_2 <= 4.95\n",
      "|   |   |   |   |   |--- class: 1\n",
      "|   |   |   |   |--- feature_2 >  4.95\n",
      "|   |   |   |   |   |--- feature_1 <= 2.45\n",
      "|   |   |   |   |   |   |--- class: 2\n",
      "|   |   |   |   |   |--- feature_1 >  2.45\n",
      "|   |   |   |   |   |   |--- class: 1\n",
      "|   |   |   |--- feature_3 >  1.65\n",
      "|   |   |   |   |--- feature_1 <= 2.75\n",
      "|   |   |   |   |   |--- class: 2\n",
      "|   |   |   |   |--- feature_1 >  2.75\n",
      "|   |   |   |   |   |--- class: 1\n",
      "|   |   |--- feature_2 >  5.35\n",
      "|   |   |   |--- class: 2\n",
      "|   |--- feature_3 >  1.75\n",
      "|   |   |--- feature_2 <= 4.85\n",
      "|   |   |   |--- feature_0 <= 5.95\n",
      "|   |   |   |   |--- class: 1\n",
      "|   |   |   |--- feature_0 >  5.95\n",
      "|   |   |   |   |--- class: 2\n",
      "|   |   |--- feature_2 >  4.85\n",
      "|   |   |   |--- class: 2\n",
      "\n"
     ]
    }
   ],
   "source": [
    "text_representation = tree.export_text(clf)\n",
    "print(text_representation)"
   ]
  },
  {
   "cell_type": "code",
   "execution_count": 6,
   "id": "98cab886",
   "metadata": {},
   "outputs": [
    {
     "name": "stdout",
     "output_type": "stream",
     "text": [
      "Accuracy of the classifier  98.0\n"
     ]
    }
   ],
   "source": [
    "total_count = 0\n",
    "counter = 0\n",
    "n = X_test.shape[0]\n",
    "t = clf.predict(X_test)\n",
    "for i in t:\n",
    "    if i == y_test[counter]:\n",
    "        total_count = total_count + 1\n",
    "    counter = counter + 1\n",
    "accuracy = total_count/n\n",
    "print(\"Accuracy of the classifier \",accuracy*100)"
   ]
  },
  {
   "cell_type": "code",
   "execution_count": null,
   "id": "f309f11b",
   "metadata": {},
   "outputs": [],
   "source": []
  }
 ],
 "metadata": {
  "kernelspec": {
   "display_name": "Python 3",
   "language": "python",
   "name": "python3"
  },
  "language_info": {
   "codemirror_mode": {
    "name": "ipython",
    "version": 3
   },
   "file_extension": ".py",
   "mimetype": "text/x-python",
   "name": "python",
   "nbconvert_exporter": "python",
   "pygments_lexer": "ipython3",
   "version": "3.8.8"
  }
 },
 "nbformat": 4,
 "nbformat_minor": 5
}
