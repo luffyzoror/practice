{
 "cells": [
  {
   "cell_type": "markdown",
   "id": "49bd078c",
   "metadata": {},
   "source": [
    "# k-means Algorithm from sratch "
   ]
  },
  {
   "cell_type": "code",
   "execution_count": 1,
   "id": "13d53210",
   "metadata": {},
   "outputs": [],
   "source": [
    "from sklearn.datasets import make_blobs"
   ]
  },
  {
   "cell_type": "code",
   "execution_count": 2,
   "id": "b70d76f8",
   "metadata": {},
   "outputs": [],
   "source": [
    "import numpy as np\n",
    "import matplotlib.pyplot as plt"
   ]
  },
  {
   "cell_type": "code",
   "execution_count": 10,
   "id": "324ef74c",
   "metadata": {},
   "outputs": [],
   "source": [
    "X,y = make_blobs(n_samples=100,centers=5,random_state=3)"
   ]
  },
  {
   "cell_type": "code",
   "execution_count": 11,
   "id": "cb25fa76",
   "metadata": {},
   "outputs": [
    {
     "data": {
      "text/plain": [
       "<matplotlib.collections.PathCollection at 0x7fb938a8e978>"
      ]
     },
     "execution_count": 11,
     "metadata": {},
     "output_type": "execute_result"
    },
    {
     "data": {
      "image/png": "[encoded data removed]",
      "text/plain": [
       "<Figure size 432x288 with 1 Axes>"
      ]
     },
     "metadata": {
      "needs_background": "light"
     },
     "output_type": "display_data"
    }
   ],
   "source": [
    "plt.scatter(X[:,0],X[:,1],c=y)"
   ]
  },
  {
   "cell_type": "code",
   "execution_count": 12,
   "id": "ace833d4",
   "metadata": {},
   "outputs": [
    {
     "name": "stdout",
     "output_type": "stream",
     "text": [
      "{0: {'color': 'red', 'points': [], 'centers': array([7.00026075, 1.2122703 ])}, 1: {'color': 'yellow', 'points': [], 'centers': array([-9.90302809, -5.12503252])}, 2: {'color': 'blue', 'points': [], 'centers': array([ 6.78863278, -1.54534568])}, 3: {'color': 'green', 'points': [], 'centers': array([-5.37371261,  1.47051657])}, 4: {'color': 'orange', 'points': [], 'centers': array([7.65976027, 6.6332112 ])}}\n"
     ]
    }
   ],
   "source": [
    "k = 5\n",
    "#preparing the data points \n",
    "clusters = {}\n",
    "colors = [\"red\",\"yellow\",\"blue\",\"green\",\"orange\"]\n",
    "for kx in range(k):\n",
    "    centers = 10*(2*np.random.random((X.shape[1],))-1)#generating random points b/w -10 to 10.\n",
    "    points = []\n",
    "    \n",
    "    cluster = {\n",
    "        \"color\" : colors[kx],\n",
    "        \"points\" : points,\n",
    "        \"centers\" : centers\n",
    "    }\n",
    "    clusters[kx] = cluster\n",
    "print(clusters)"
   ]
  },
  {
   "cell_type": "code",
   "execution_count": 13,
   "id": "ee84efb7",
   "metadata": {},
   "outputs": [],
   "source": [
    "def distance(v1,v2):\n",
    "    t = np.sum((v1-v2)**2)\n",
    "    return t**0.5"
   ]
  },
  {
   "cell_type": "code",
   "execution_count": 14,
   "id": "bdb2d7fb",
   "metadata": {},
   "outputs": [],
   "source": [
    "def assingclusters(X):\n",
    "    for ix in range(X.shape[0]):\n",
    "        dist = []\n",
    "        curr_x = X[ix]\n",
    "        for kx in range(5):\n",
    "            d = distance(curr_x,clusters[kx]['centers'])\n",
    "            dist.append(d)\n",
    "        current_cluster = np.argmin(dist)\n",
    "        clusters[current_cluster]['points'].append(curr_x)"
   ]
  },
  {
   "cell_type": "code",
   "execution_count": 15,
   "id": "6ce2eaf5",
   "metadata": {},
   "outputs": [],
   "source": [
    "def updatecluster(clusters):\n",
    "    for kx in range(5):\n",
    "        pt = np.array(clusters[kx]['points'])\n",
    "        if(pt.shape[0]>0):\n",
    "            u = pt.mean(axis = 0)\n",
    "            clusters[kx]['centers'] = u\n",
    "            clusters[kx]['points'] = []"
   ]
  },
  {
   "cell_type": "code",
   "execution_count": 18,
   "id": "daee5d04",
   "metadata": {},
   "outputs": [],
   "source": [
    "def pointplt(clusters):\n",
    "    for kx in range(5):\n",
    "        p = np.array(clusters[kx]['points'])\n",
    "        print(p.shape)\n",
    "        \n",
    "        try:\n",
    "            plt.scatter(p[:,0],p[:,1],color = clusters[kx]['color'])\n",
    "        except:\n",
    "            pass"
   ]
  },
  {
   "cell_type": "code",
   "execution_count": 26,
   "id": "03d26fae",
   "metadata": {},
   "outputs": [
    {
     "name": "stdout",
     "output_type": "stream",
     "text": [
      "(20, 2)\n",
      "(37, 2)\n",
      "(0,)\n",
      "(23, 2)\n",
      "(20, 2)\n"
     ]
    },
    {
     "data": {
      "image/png": "[encoded data removed]",
      "text/plain": [
       "<Figure size 432x288 with 1 Axes>"
      ]
     },
     "metadata": {
      "needs_background": "light"
     },
     "output_type": "display_data"
    }
   ],
   "source": [
    "assingclusters(X)\n",
    "pointplt(clusters)\n",
    "updatecluster(clusters)"
   ]
  }
 ],
 "metadata": {
  "kernelspec": {
   "display_name": "Python 3",
   "language": "python",
   "name": "python3"
  },
  "language_info": {
   "codemirror_mode": {
    "name": "ipython",
    "version": 3
   },
   "file_extension": ".py",
   "mimetype": "text/x-python",
   "name": "python",
   "nbconvert_exporter": "python",
   "pygments_lexer": "ipython3",
   "version": "3.8.8"
  }
 },
 "nbformat": 4,
 "nbformat_minor": 5
}
